{
 "cells": [
  {
   "cell_type": "code",
   "execution_count": 1,
   "metadata": {},
   "outputs": [
    {
     "name": "stderr",
     "output_type": "stream",
     "text": [
      "2024-10-01 22:10:23.968087: I tensorflow/core/platform/cpu_feature_guard.cc:210] This TensorFlow binary is optimized to use available CPU instructions in performance-critical operations.\n",
      "To enable the following instructions: AVX2 FMA, in other operations, rebuild TensorFlow with the appropriate compiler flags.\n",
      "2024-10-01 22:10:25.978309: W tensorflow/compiler/tf2tensorrt/utils/py_utils.cc:38] TF-TRT Warning: Could not find TensorRT\n"
     ]
    }
   ],
   "source": [
    "import os\n",
    "os.environ[\"KERAS_BACKEND\"] = \"tensorflow\"\n",
    "import numpy as np\n",
    "import tensorflow as tf\n",
    "import matplotlib.patches as patches\n",
    "from sklearn.model_selection import train_test_split"
   ]
  },
  {
   "cell_type": "markdown",
   "metadata": {},
   "source": [
    "# Load MNIST"
   ]
  },
  {
   "cell_type": "code",
   "execution_count": 2,
   "metadata": {},
   "outputs": [
    {
     "name": "stdout",
     "output_type": "stream",
     "text": [
      "Images in val_ds: 500\n"
     ]
    }
   ],
   "source": [
    "def load_mnist_dataset(val_ratio=0.1, num_train=500, num_val=500, num_test=50):\n",
    "    \"\"\"MNIST Dataloader with offset added(for background class inclusion)\"\"\"\n",
    "    # Load MNIST dataset\n",
    "    (x_train, y_train), (x_test, y_test) = tf.keras.datasets.mnist.load_data()\n",
    "\n",
    "    # Normalize pixel values to be between 0 and 1\n",
    "    x_train = x_train.astype('float32') / 255\n",
    "    x_test = x_test.astype('float32') / 255\n",
    "\n",
    "    # Offset labels by 1 to reserve 0 for the background class\n",
    "    y_train = y_train + 1\n",
    "    y_test = y_test + 1\n",
    "\n",
    "    # Split the original train set into new train and validation sets\n",
    "    x_train, x_val, y_train, y_val = train_test_split(x_train, y_train, test_size=val_ratio)\n",
    "\n",
    "    # Take only the required number of samples for each dataset\n",
    "    x_train, y_train = x_train[:num_train], y_train[:num_train]\n",
    "    x_val, y_val = x_val[:num_val], y_val[:num_val]\n",
    "    x_test, y_test = x_test[:num_test], y_test[:num_test]\n",
    "\n",
    "    return (x_train, y_train), (x_val, y_val), (x_test, y_test)\n",
    "\n",
    "# Load datasets with the specified number of samples\n",
    "train_ds, val_ds, test_ds = load_mnist_dataset()\n",
    "\n",
    "# Print the number of images in each dataset\n",
    "# print(f\"Images in train_ds: {len(train_ds[0])}\")\n",
    "print(f\"Images in val_ds: {len(val_ds[0])}\")\n",
    "# print(f\"Images in test_ds: {len(test_ds[0])}\")"
   ]
  },
  {
   "cell_type": "markdown",
   "metadata": {},
   "source": [
    "# Coordinate formats converter functions"
   ]
  },
  {
   "cell_type": "code",
   "execution_count": 3,
   "metadata": {},
   "outputs": [
    {
     "name": "stdout",
     "output_type": "stream",
     "text": [
      "Corner(ymin, xmin, ymax, xmax) format from center coordinates: [[22. 22. 34. 34.]]\n",
      "Center(cx, cy, w, h) format from corner coordinates: [[28. 28. 12. 12.]]\n",
      "Corner(ymin, xmin, ymax, xmax) format from re-converted center coordinates: [[22. 22. 34. 34.]]\n",
      "Center(cx, cy, w, h) format from corner coordinates: [[28. 28. 12. 12.]]\n"
     ]
    }
   ],
   "source": [
    "def center2yx(boxes):\n",
    "    \"\"\"\n",
    "    Convert bounding boxes from center format (cx, cy, w, h) \n",
    "    to corner format (ymin, xmin, ymax, xmax).\n",
    "    \n",
    "    Args:\n",
    "    - boxes: A TensorFlow tensor of shape (..., 4) where\n",
    "             each box is of the format (cx, cy, w, h).\n",
    "    \n",
    "    Returns:\n",
    "    - A TensorFlow tensor of the same shape containing\n",
    "      bounding boxes in the format (ymin, xmin, ymax, xmax).\n",
    "    \"\"\"\n",
    "    cx, cy, w, h = tf.split(boxes, num_or_size_splits=4, axis=-1)\n",
    "    xmin = cx - (w * 0.5)\n",
    "    xmax = cx + (w * 0.5)\n",
    "    ymin = cy - (h * 0.5)\n",
    "    ymax = cy + (h * 0.5)\n",
    "    return tf.concat([ymin, xmin, ymax, xmax], axis=-1)\n",
    "\n",
    "def yx2center(boxes):\n",
    "    \"\"\"\n",
    "    Convert bounding boxes from corner format (ymin, xmin, ymax, xmax)\n",
    "    to center format (cx, cy, w, h).\n",
    "    \n",
    "    Args:\n",
    "    - boxes: A TensorFlow tensor of shape (..., 4) where\n",
    "             each box is of the format (ymin, xmin, ymax, xmax).\n",
    "    \n",
    "    Returns:\n",
    "    - A TensorFlow tensor of the same shape containing\n",
    "      bounding boxes in the format (cx, cy, w, h).\n",
    "    \"\"\"\n",
    "    ymin, xmin, ymax, xmax = tf.split(boxes, num_or_size_splits=4, axis=-1)\n",
    "    cx = (xmin + xmax) / 2\n",
    "    cy = (ymin + ymax) / 2\n",
    "    w = xmax - xmin\n",
    "    h = ymax - ymin\n",
    "    return tf.concat([cx, cy, w, h], axis=-1)\n",
    "\n",
    "# Test with sample data\n",
    "test_center_coords = np.array([[28, 28, 12, 12]], dtype=np.float32)\n",
    "\n",
    "# Convert to TensorFlow tensor\n",
    "test_center_tensor = tf.convert_to_tensor(test_center_coords)\n",
    "\n",
    "# Example usage\n",
    "corner_format = center2yx(test_center_tensor)\n",
    "center_format = yx2center(corner_format)\n",
    "corner_2 = center2yx(center_format)\n",
    "center_2 = yx2center(corner_2)\n",
    "\n",
    "# Print results\n",
    "print(\"Corner(ymin, xmin, ymax, xmax) format from center coordinates:\", corner_format.numpy())\n",
    "print(\"Center(cx, cy, w, h) format from corner coordinates:\", center_format.numpy())\n",
    "print(\"Corner(ymin, xmin, ymax, xmax) format from re-converted center coordinates:\", corner_2.numpy())\n",
    "print(\"Center(cx, cy, w, h) format from corner coordinates:\", center_2.numpy())"
   ]
  },
  {
   "cell_type": "markdown",
   "metadata": {},
   "source": [
    "### Load pre-calculated anchor boxes"
   ]
  },
  {
   "cell_type": "code",
   "execution_count": 4,
   "metadata": {},
   "outputs": [
    {
     "data": {
      "text/plain": [
       "<tf.Tensor: shape=(5250, 4), dtype=float32, numpy=\n",
       "array([[  4.0096,   4.0096,  22.4   ,  22.4   ],\n",
       "       [  4.0096,   4.0096,  43.6576,  43.6576],\n",
       "       [  4.0096,   4.0096,  20.0256,  25.0432],\n",
       "       ...,\n",
       "       [112.    , 112.    , 224.    , 224.    ],\n",
       "       [112.    , 112.    , 224.    , 224.    ],\n",
       "       [112.    , 112.    , 224.    , 224.    ]], dtype=float32)>"
      ]
     },
     "execution_count": 4,
     "metadata": {},
     "output_type": "execute_result"
    }
   ],
   "source": [
    "def denormalize_boxes(boxes, img_size = 224):\n",
    "    \"\"\"Denormalize boxes to image size.\n",
    "\n",
    "    Args:\n",
    "        boxes: Tensor of shape [num_boxes, 4] with (cx, cy, w, h) format in [0, 1] range.\n",
    "        img_size: The size of the input image (e.g., 224).\n",
    "\n",
    "    Returns:\n",
    "        Denormalized boxes with (cx, cy, w, h) relative to img_size.\n",
    "    \"\"\"\n",
    "    img_size = tf.cast(img_size, tf.float32)\n",
    "    denormalized_boxes = boxes * img_size\n",
    "    \n",
    "    return denormalized_boxes\n",
    "\n",
    "def load_anchors_as_tensor(file_path, img_size = 224):\n",
    "    \"\"\"\n",
    "    Load anchor boxes from a file and process them.\n",
    "    \n",
    "    Args:\n",
    "    - file_path: Path to the anchors file.\n",
    "    \n",
    "    Returns:\n",
    "    - A tensor of shape (num_anchors, 4) with clipped anchor boxes cx,cy,w,h format.\n",
    "    \"\"\"\n",
    "    # Load anchor boxes from file\n",
    "    with open(file_path, 'r') as file:\n",
    "        lines = file.readlines()\n",
    "    \n",
    "    # Convert each line to a list of floats and clip the values to be within image limits\n",
    "    anchors = []\n",
    "    for line in lines:\n",
    "        cx, cy, w, h = map(float, line.strip().split())\n",
    "        anchors.append([cx * img_size, cy * img_size, w * img_size, h * img_size])\n",
    "\n",
    "    # Convert to tensor\n",
    "    anchors_tensor = tf.convert_to_tensor(anchors, dtype=tf.float32)\n",
    "    return tf.clip_by_value(anchors_tensor, clip_value_min=0, clip_value_max=img_size)\n",
    "\n",
    "load_anchors_as_tensor('anchors.txt')"
   ]
  },
  {
   "cell_type": "markdown",
   "metadata": {},
   "source": [
    "### Compute the IoU (Intersection-over-Union) map between ground_truths and anchor boxes"
   ]
  },
  {
   "cell_type": "code",
   "execution_count": 5,
   "metadata": {},
   "outputs": [],
   "source": [
    "def compute_iou_map(anchors, ground_truths):\n",
    "    \"\"\"\n",
    "    Compute the Intersection over Union (IoU) map between anchors and ground truth boxes.\n",
    "    \n",
    "    Args:\n",
    "    - anchors: Tensor of shape (num_anchors, 4) with anchor boxes in cx,cy,w,h format.\n",
    "    - ground_truths: Tensor of shape (num_gt, 4) with ground truth boxes in cx,cy,w,h format.\n",
    "    \n",
    "    Returns:\n",
    "    - A Tensor of shape (num_anchors, num_gt) representing the IoU between each anchor and each ground truth box.\n",
    "    \"\"\"\n",
    "    # Convert anchors and ground truths to corner format (ymin, xmin, ymax, xmax)\n",
    "    anchors_corner = center2yx(anchors)\n",
    "    ground_truths_corner = center2yx(ground_truths)\n",
    "    \n",
    "    # Unstack the coordinates of anchors and ground truths\n",
    "    ymin_a, xmin_a, ymax_a, xmax_a = tf.unstack(anchors_corner, axis=-1)\n",
    "    ymin_gt, xmin_gt, ymax_gt, xmax_gt = tf.unstack(ground_truths_corner, axis=-1)\n",
    "\n",
    "    # Calculate intersection areas (shape: num_anchors, num_gt_boxes)\n",
    "    inter_ymin = tf.maximum(ymin_a[:, tf.newaxis], ymin_gt[tf.newaxis, :])\n",
    "    inter_xmin = tf.maximum(xmin_a[:, tf.newaxis], xmin_gt[tf.newaxis, :])\n",
    "    inter_ymax = tf.minimum(ymax_a[:, tf.newaxis], ymax_gt[tf.newaxis, :])\n",
    "    inter_xmax = tf.minimum(xmax_a[:, tf.newaxis], xmax_gt[tf.newaxis, :])\n",
    "    \n",
    "    inter_area = tf.maximum(0.0, inter_ymax - inter_ymin) * tf.maximum(0.0, inter_xmax - inter_xmin)\n",
    "\n",
    "    # Calculate areas of anchor and ground truth boxes\n",
    "    anchor_area = (ymax_a - ymin_a) * (xmax_a - xmin_a)\n",
    "    gt_area = (ymax_gt - ymin_gt) * (xmax_gt - xmin_gt)\n",
    "\n",
    "    # Calculate union area\n",
    "    union_area = anchor_area[:, tf.newaxis] + gt_area[tf.newaxis, :] - inter_area\n",
    "\n",
    "    # Compute IoU\n",
    "    iou = tf.where(union_area > 0, inter_area / union_area, tf.zeros_like(inter_area))\n",
    "\n",
    "    return iou"
   ]
  },
  {
   "cell_type": "markdown",
   "metadata": {},
   "source": [
    "# Convert MNIST function to Object Detection Dataset"
   ]
  },
  {
   "cell_type": "code",
   "execution_count": 11,
   "metadata": {},
   "outputs": [
    {
     "name": "stderr",
     "output_type": "stream",
     "text": [
      "2024-10-01 22:11:01.946898: W external/local_tsl/tsl/framework/cpu_allocator_impl.cc:83] Allocation of 301056000 exceeds 10% of free system memory.\n"
     ]
    }
   ],
   "source": [
    "def mnist_corners_to_center(top_corner_coords, image_size=224, mnist_digit_size=28):\n",
    "  \"\"\"\n",
    "    Convert top-left corner coordinates to center format (cx, cy, w, h).\n",
    "    \n",
    "    Args:\n",
    "    - top_corner_coords: Array of shape (num_images, 2) containing the top-left (x1, y1) coordinates.\n",
    "    - image_size: The size of the canvas (both width and height).\n",
    "    - mnist_digit_size: The size of each MNIST digit (typically 28x28).\n",
    "\n",
    "    Returns:\n",
    "    - gt_boxes: Tensor of shape (num_images, 4) in (cx, cy, w, h) format.\n",
    "  \"\"\"\n",
    "  # Get x1,y1 coordinates (in pixels, not normalized)\n",
    "  x1 = top_corner_coords[:, 0]\n",
    "  y1 = top_corner_coords[:, 1]\n",
    "\n",
    "  # Compute center coordinates in pixel space\n",
    "  cx = x1 + (mnist_digit_size / 2)\n",
    "  cy = y1 + (mnist_digit_size / 2)\n",
    "  w = np.full_like(cx, mnist_digit_size)  # Width is the size of the MNIST digit\n",
    "  h = np.full_like(cy, mnist_digit_size)  # Height is also the size of the MNIST digit\n",
    "\n",
    "  # Stack the results into (cx, cy, w, h) format\n",
    "  gt_boxes = np.stack([cx, cy, w, h], axis=-1)\n",
    "  gt_boxes = tf.convert_to_tensor(gt_boxes, dtype=tf.float32)\n",
    "\n",
    "  return tf.clip_by_value(gt_boxes, clip_value_min=0.0, clip_value_max=image_size)\n",
    "\n",
    "def encode_boxes_tf(anchor_boxes, gt_boxes, iou_threshold=0.5):\n",
    "    \"\"\"Encode anchor boxes with ground truth boxes based on IoU using TensorFlow.\n",
    "    \n",
    "    This will compute the IoU map, and calculate encoded offsets for all ground truth\n",
    "    boxes that have overlap with IoU > 0.5 with some anchor. A positive box index is appended\n",
    "    after the offsets to indicate wether an encoded offset refers to a negative(0) or positive(1)\n",
    "    box.\n",
    "\n",
    "    Returns:\n",
    "      encoded_boxes: Tensor of shape [num_anchors, num_gt_boxes, 5]\n",
    "    \"\"\"\n",
    "\n",
    "    # Compute IoU matrix: shape [num_anchors, num_gt_boxes]\n",
    "    iou_matrix = compute_iou_map(anchor_boxes, gt_boxes)\n",
    "\n",
    "    # Create mask where IoU > threshold\n",
    "    mask = tf.cast(iou_matrix > iou_threshold, tf.float32)  # Shape: [num_anchors, num_gt_boxes]\n",
    "\n",
    "    # Prepare shapes\n",
    "    anchor_boxes_expanded = tf.expand_dims(anchor_boxes, axis=1)  # Shape: [num_anchors, 1, 4]\n",
    "    gt_boxes_expanded = tf.expand_dims(gt_boxes, axis=0)        # Shape: [1, num_gt_boxes, 4]\n",
    "\n",
    "    # Compute encoded boxes\n",
    "    dx = gt_boxes_expanded[..., 0] - anchor_boxes_expanded[..., 0]\n",
    "    dy = gt_boxes_expanded[..., 1] - anchor_boxes_expanded[..., 1]\n",
    "    dw = gt_boxes_expanded[..., 2] - anchor_boxes_expanded[..., 2]\n",
    "    dh = gt_boxes_expanded[..., 3] - anchor_boxes_expanded[..., 3]\n",
    "    pos = tf.ones_like(dx)\n",
    "\n",
    "    # Stack encoded values\n",
    "    encoded = tf.stack([dx, dy, dw, dh, pos], axis=-1)  # Shape: [num_anchors, num_gt_boxes, 5]\n",
    "\n",
    "    # Apply mask to encoded boxes to zero-out negatives\n",
    "    encoded_boxes = encoded * tf.expand_dims(mask, axis=-1)  # Shape: [num_anchors, num_gt_boxes, 5]\n",
    "\n",
    "    # Reshape to [num_gt_boxes, num_anchors, 5]\n",
    "    encoded_boxes = tf.transpose(encoded_boxes, perm=[1, 0, 2])\n",
    "\n",
    "    return encoded_boxes\n",
    "\n",
    "def mnist_convert(x, y, image_size = 224, anchors_path = 'anchors.txt'):\n",
    "  \"\"\"Convert MNIST Dataset to Object Detection ready dataset\n",
    "  \n",
    "  Arguments:\n",
    "    x: Images np.array\n",
    "    y: Class labels array\n",
    "    image_size: The target size for the images tensor.\n",
    "    anchors_path: Path to the anchor boxes (cx,cy,w,h) file.\n",
    "  \"\"\"\n",
    "  # We will randomly place the digits on a black canvas.\n",
    "  # Create a 2D array of top left corners for the mnist image \n",
    "  # to be placed.\n",
    "  mnist_img_dim = x.shape[-1]\n",
    "  top_corners = np.random.randint(image_size - mnist_img_dim, size=(x.shape[0],2))\n",
    "\n",
    "  # Asserting that the MNIST images will not go out of the canvas bounds\n",
    "  assert np.all(top_corners[:, 0] >= 0), \"top_left_x is out of bounds (less than 0)\"\n",
    "  assert np.all(top_corners[:, 1] >= 0), \"top_left_y is out of bounds (less than 0)\"\n",
    "  assert np.all(top_corners[:, 0] + mnist_img_dim <= image_size), \"MNIST image exceeds canvas width\"\n",
    "  assert np.all(top_corners[:, 1] + mnist_img_dim <= image_size), \"MNIST image exceeds canvas height\"\n",
    "\n",
    "  max_corner_value = image_size - mnist_img_dim  # 224 - 28 = 196\n",
    "  assert np.all(top_corners[:, 0] <= max_corner_value), f\"top_left_x exceeds max allowed value ({max_corner_value})\"\n",
    "  assert np.all(top_corners[:, 1] <= max_corner_value), f\"top_left_y exceeds max allowed value ({max_corner_value})\"\n",
    "\n",
    "  # Create a black canvas for the input with the required dimension\n",
    "  # This will be our image input to the SSD model.\n",
    "  images = np.zeros((x.shape[0], image_size, image_size, 3)) # Shape: (num_images, 224, 224, 3)\n",
    "  gt_boxes = mnist_corners_to_center(top_corners, 224 , 28) # Returns a Tensor of shape (num_images, 4)\n",
    "\n",
    "  # Convert MNIST images to RGB and randomly place digits on the \n",
    "  # white canvas.\n",
    "  mnist_rgb = np.repeat(np.expand_dims(x, axis=-1), 3, axis=-1)\n",
    "  for i, (x1, y1) in enumerate(top_corners):\n",
    "    images[i, y1:y1 + mnist_img_dim, x1:x1 + mnist_img_dim, :] = mnist_rgb[i]\n",
    "\n",
    "  # Convert images to tensor\n",
    "  images = tf.convert_to_tensor(images, dtype= tf.float32)\n",
    "\n",
    "  # Load the anchor boxes\n",
    "  anchors = load_anchors_as_tensor(anchors_path)\n",
    "\n",
    "  # Encode the ground truth boxes\n",
    "  encoded_boxes = encode_boxes_tf(anchors, gt_boxes)\n",
    "\n",
    "  # Create empty ground_truths tensor of shape (num_images, num_anchors,5)\n",
    "  # 6 refers to a class index, 4 box coordinates in (cx,cy,w,h) format \n",
    "  # and an extra index to indicate positive boxes.\n",
    "  n_anchors = anchors.shape[0]\n",
    "  ground_truths = np.zeros((y.shape[0], n_anchors, 6))\n",
    "\n",
    "  # Assign the class labels for all samples, as we even need negatives for hard-negative\n",
    "  # mining.\n",
    "  ground_truths[:, :, 0] = y[:, np.newaxis]\n",
    "\n",
    "  # Add the encoded boxes and positive mark\n",
    "  ground_truths[:, :, 1:] = encoded_boxes.numpy()\n",
    "\n",
    "  # Mark negative boxes as background class\n",
    "  negative_mask = (ground_truths[:, :, 5] == 0)\n",
    "  ground_truths[:, :, 0] = np.where(negative_mask, 0, ground_truths[:, :, 0])\n",
    "\n",
    "  return images, tf.convert_to_tensor(ground_truths, dtype=tf.float32), tf.convert_to_tensor(gt_boxes, dtype=tf.float32)\n",
    "\n",
    "imgs, encoded, gt_boxes = mnist_convert(val_ds[0], val_ds[1])"
   ]
  },
  {
   "cell_type": "markdown",
   "metadata": {},
   "source": [
    "# Check distribution of positive boxes for dataset samples"
   ]
  },
  {
   "cell_type": "code",
   "execution_count": 12,
   "metadata": {},
   "outputs": [
    {
     "data": {
      "image/png": "[encoded data removed]",
      "text/plain": [
       "<Figure size 800x600 with 1 Axes>"
      ]
     },
     "metadata": {},
     "output_type": "display_data"
    }
   ],
   "source": [
    "import matplotlib.pyplot as plt\n",
    "import numpy as np\n",
    "\n",
    "def plot_positive_boxes_distribution(encoded_boxes):\n",
    "    \"\"\"\n",
    "    Plot the distribution of positive boxes per image.\n",
    "    \n",
    "    Args:\n",
    "    - encoded_boxes: Tensor of shape (num_images, num_anchors, 5), where the 5th value indicates positive boxes.\n",
    "    \"\"\"\n",
    "    # Convert tensor to numpy for easier manipulation\n",
    "    encoded_boxes_np = encoded_boxes.numpy()\n",
    "    \n",
    "    # Get the positive box indicator\n",
    "    positive_boxes = encoded_boxes_np[:, :,5]\n",
    "    \n",
    "    # Count how many positive boxes per image (sum along the anchor dimension)\n",
    "    num_positive_boxes = np.sum(positive_boxes == 1, axis=1)\n",
    "    \n",
    "    # Plot the distribution\n",
    "    plt.figure(figsize=(8, 6))\n",
    "    plt.hist(num_positive_boxes, bins=np.arange(0, np.max(num_positive_boxes) + 1), edgecolor='black')\n",
    "    plt.title('Distribution of Positive Boxes per Image')\n",
    "    plt.xlabel('Number of Positive Boxes')\n",
    "    plt.ylabel('Frequency')\n",
    "    plt.grid(True)\n",
    "    plt.show()\n",
    "\n",
    "# Call the function with the encoded boxes\n",
    "plot_positive_boxes_distribution(encoded)"
   ]
  },
  {
   "cell_type": "markdown",
   "metadata": {},
   "source": [
    "### Class mapping with background class included"
   ]
  },
  {
   "cell_type": "code",
   "execution_count": 13,
   "metadata": {},
   "outputs": [],
   "source": [
    "mnist_ssd_class_map = {\n",
    "    0: 'background',\n",
    "    1: 'digit_0',\n",
    "    2: 'digit_1',\n",
    "    3: 'digit_2',\n",
    "    4: 'digit_3',\n",
    "    5: 'digit_4',\n",
    "    6: 'digit_5',\n",
    "    7: 'digit_6',\n",
    "    8: 'digit_7',\n",
    "    9: 'digit_8',\n",
    "    10: 'digit_9'\n",
    "}"
   ]
  },
  {
   "cell_type": "markdown",
   "metadata": {},
   "source": [
    "# Test anchors and encoding functions on dataset"
   ]
  },
  {
   "cell_type": "code",
   "execution_count": 14,
   "metadata": {},
   "outputs": [
    {
     "data": {
      "image/png": "[encoded data removed]",
      "text/plain": [
       "<Figure size 1000x1000 with 1 Axes>"
      ]
     },
     "metadata": {},
     "output_type": "display_data"
    },
    {
     "data": {
      "image/png": "[encoded data removed]",
      "text/plain": [
       "<Figure size 1000x1000 with 1 Axes>"
      ]
     },
     "metadata": {},
     "output_type": "display_data"
    },
    {
     "data": {
      "image/png": "[encoded data removed]",
      "text/plain": [
       "<Figure size 1000x1000 with 1 Axes>"
      ]
     },
     "metadata": {},
     "output_type": "display_data"
    }
   ],
   "source": [
    "def decode_boxes(anchors, offsets, img_size = 224):\n",
    "    \"\"\"\n",
    "    Apply offsets to anchors to get the decoded predicted bounding boxes.\n",
    "\n",
    "    Args:\n",
    "    - anchors: Tensor of shape (num_anchors, 4) with anchor boxes in center coordinates and sizes [cx, cy, w, h].\n",
    "    - offsets: Tensor of shape (num_anchors, 4) with encoded offsets.\n",
    "    - img_size: Target size for clipping to image borders\n",
    "\n",
    "    Returns:\n",
    "    - predicted_boxes: Tensor of shape (num_anchors, 4) with predicted boxes in corner coordinates [y1, x1, y2, x2].\n",
    "    \"\"\"\n",
    "    # Unstack anchors and offsets\n",
    "    anchor_cx, anchor_cy, anchor_w, anchor_h = tf.unstack(anchors, axis=-1)\n",
    "    d_cx, d_cy, d_w, d_h = tf.unstack(offsets, axis=-1)\n",
    "\n",
    "    # Apply offsets to get the predicted center coordinates and sizes\n",
    "    pred_cx = anchor_cx + d_cx\n",
    "    pred_cy = anchor_cy + d_cy\n",
    "    pred_w = anchor_w + d_w\n",
    "    pred_h = anchor_h + d_h\n",
    "\n",
    "    # Convert from center coordinates and sizes to corner coordinates [y1, x1, y2, x2]\n",
    "    pred_y1 = pred_cy - pred_h / 2\n",
    "    pred_x1 = pred_cx - pred_w / 2\n",
    "    pred_y2 = pred_cy + pred_h / 2\n",
    "    pred_x2 = pred_cx + pred_w / 2\n",
    "\n",
    "    decoded_boxes = tf.stack([pred_y1, pred_x1, pred_y2, pred_x2], axis=-1)\n",
    "    \n",
    "    return tf.clip_by_value(decoded_boxes, clip_value_min=0.0, clip_value_max=img_size)\n",
    "\n",
    "def plot_encoded(images, anchors, encoded, gt_boxes, num_samples=5, plot_matching = False):\n",
    "    \"\"\"\n",
    "    Plot the images with decoded bounding boxes.\n",
    "\n",
    "    Args:\n",
    "    - images: Tensor of shape (num_images, height, width, channels) representing the images.\n",
    "    - anchors: Tensor of shape (num_anchors, 4) with anchor boxes in center coordinates and sizes [cx, cy, w, h].\n",
    "    - encoded: Tensor of shape (num_images, num_anchors, 4) with encoded offsets.\n",
    "    - gt_boxes: Tensor of shape (num_images, 4) with the actual gt boxes\n",
    "    - num_samples: Number of samples to plot.\n",
    "    - plot_matching: Plot only the raw matching anchors, instead of the decoded encodings\n",
    "    \"\"\"\n",
    "    # Decode the boxes\n",
    "    decoded_boxes = decode_boxes(anchors, encoded[:,:,1:5])\n",
    "    \n",
    "    # Convert to numpy arrays for plotting\n",
    "    images = images.numpy()\n",
    "    decoded_boxes = decoded_boxes.numpy()\n",
    "    positives = encoded[:,:,5]\n",
    "    class_labels = encoded[:, :, 0].numpy()\n",
    "\n",
    "\n",
    "    for i in range(min(num_samples, images.shape[0])):\n",
    "        img = images[i]\n",
    "        plt.figure(figsize=(10, 10))\n",
    "        plt.imshow(img)\n",
    "\n",
    "        # Get the boxes for the current image\n",
    "        boxes = decoded_boxes[i]\n",
    "        pos_indices = positives[i].numpy().astype(bool)  # Convert positives to boolean indices\n",
    "        boxes = boxes[pos_indices]\n",
    "        classes = class_labels[i][pos_indices]\n",
    "        pos_achors = center2yx(anchors[pos_indices])\n",
    "\n",
    "        ax = plt.gca()\n",
    "        \n",
    "        # Plot decoded box encodings if plot_matching anchors is not set\n",
    "        if not plot_matching:\n",
    "            print(f\"Sample {i} - Number of positive boxes: {len(boxes)}\")\n",
    "                        \n",
    "            for j, box in enumerate(boxes):\n",
    "                y1, x1, y2, x2 = box\n",
    "\n",
    "                if (y1 < 0 or x1 < 0 or y2 > img.shape[0] or x2 > img.shape[1]):\n",
    "                    print(f\"Warning: Box {j} is out of image bounds!\")\n",
    "\n",
    "                # Get the corresponding class label for this box\n",
    "                class_index = int(classes[j])\n",
    "                class_name = mnist_ssd_class_map.get(class_index, 'unknown')\n",
    "\n",
    "                # Print the class of the box\n",
    "                print(f\"Box {j}: Class = {class_name}\")\n",
    "                \n",
    "                # Create a rectangle patch\n",
    "                rect = patches.Rectangle((x1, y1), x2 - x1, y2 - y1, \n",
    "                                        linewidth=5, edgecolor='r', facecolor='none')\n",
    "                ax.add_patch(rect)\n",
    "\n",
    "        # Plot ground truth boxes in green\n",
    "        y1,x1,y2,x2 = center2yx(gt_boxes[i])\n",
    "        \n",
    "        # Create a rectangle patch for GT boxes\n",
    "        rect = patches.Rectangle((x1, y1), x2 - x1, y2 - y1, \n",
    "                                    linewidth=3, edgecolor='g', facecolor='none')\n",
    "        ax.add_patch(rect)\n",
    "\n",
    "        # Plot positive anchor matches\n",
    "        if plot_matching:\n",
    "            for j, anchor in enumerate(pos_achors):\n",
    "                y1, x1, y2, x2 = anchor\n",
    "                rect = patches.Rectangle((x1, y1), x2 - x1, y2 - y1, \n",
    "                                        linewidth=2, edgecolor='b', facecolor='none')\n",
    "                ax.add_patch(rect)\n",
    "\n",
    "        plt.title(f'Sample {i}')\n",
    "        plt.show()\n",
    "\n",
    "# Example usage\n",
    "anchors = tf.convert_to_tensor(load_anchors_as_tensor('anchors.txt'), dtype=tf.float32)\n",
    "plot_encoded(imgs, anchors, encoded, gt_boxes, num_samples=3, plot_matching = True)"
   ]
  }
 ],
 "metadata": {
  "kernelspec": {
   "display_name": "Python 3",
   "language": "python",
   "name": "python3"
  },
  "language_info": {
   "codemirror_mode": {
    "name": "ipython",
    "version": 3
   },
   "file_extension": ".py",
   "mimetype": "text/x-python",
   "name": "python",
   "nbconvert_exporter": "python",
   "pygments_lexer": "ipython3",
   "version": "3.10.13"
  }
 },
 "nbformat": 4,
 "nbformat_minor": 2
}
